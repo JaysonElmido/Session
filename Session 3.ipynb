{
 "cells": [
  {
   "cell_type": "code",
   "execution_count": 9,
   "metadata": {},
   "outputs": [
    {
     "name": "stdout",
     "output_type": "stream",
     "text": [
      "Jay\n",
      "24\n",
      "asdhas\n"
     ]
    }
   ],
   "source": [
    "def student(**student):\n",
    "        print(student['name'])\n",
    "        print(student['age'])\n",
    "        print(student['email'])\n",
    "\n",
    "student(name=\"Jay\", age=24, email= \"asdhas\")\n"
   ]
  },
  {
   "cell_type": "code",
   "execution_count": 10,
   "metadata": {},
   "outputs": [
    {
     "name": "stdout",
     "output_type": "stream",
     "text": [
      "2\n"
     ]
    }
   ],
   "source": [
    "add = lambda x,y: x + y\n",
    "print(add(1,1))"
   ]
  },
  {
   "cell_type": "code",
   "execution_count": 22,
   "metadata": {},
   "outputs": [
    {
     "name": "stdout",
     "output_type": "stream",
     "text": [
      "Miya\n"
     ]
    }
   ],
   "source": [
    "## Class Object\n",
    "\n",
    "char1 = character()\n",
    "char1.name = \"Miya\"\n",
    "char1.hp = 200\n",
    "char1.mp = 50\n",
    "char1.atk = 25\n",
    "char1.lvl = 1\n",
    "\n",
    "print(char1.name)\n",
    "\n"
   ]
  },
  {
   "cell_type": "code",
   "execution_count": null,
   "metadata": {},
   "outputs": [],
   "source": [
    "## Constructors\n",
    "\n",
    "\n",
    "char1 = character()\n",
    "char1.name = \"Miya\"\n",
    "char1.hp = 200\n",
    "char1.mp = 50\n",
    "char1.atk = 25\n",
    "char1.lvl = 1\n",
    "\n",
    "print(char1.name)\n",
    "\n"
   ]
  },
  {
   "cell_type": "code",
   "execution_count": 24,
   "metadata": {},
   "outputs": [
    {
     "name": "stdout",
     "output_type": "stream",
     "text": [
      "Character created\n",
      "Character created\n"
     ]
    }
   ],
   "source": [
    "# Init function\n",
    "\n",
    "class character():\n",
    "    def __init__(self) -> None:\n",
    "        print(\"Character created\")\n",
    "\n",
    "\n",
    "char1 = character()\n",
    "char2 = character()"
   ]
  },
  {
   "cell_type": "code",
   "execution_count": 29,
   "metadata": {},
   "outputs": [],
   "source": [
    "## Object constructor\n",
    "\n",
    "class character():\n",
    "    def __init__(self,name,hp,mp,atk,lvl) -> None:\n",
    "        self.name = \"Name\"\n",
    "        self.hp = 100\n",
    "        self.mp = 50\n",
    "        self.atk = 25\n",
    "        self.lvl = 1\n",
    "\n",
    "char1 = character(\"Miya\", 200, 50, 50, 1)\n",
    "char2 = character(\"Tigreal\", 1000,250,10,1)"
   ]
  }
 ],
 "metadata": {
  "kernelspec": {
   "display_name": "Python 3",
   "language": "python",
   "name": "python3"
  },
  "language_info": {
   "codemirror_mode": {
    "name": "ipython",
    "version": 3
   },
   "file_extension": ".py",
   "mimetype": "text/x-python",
   "name": "python",
   "nbconvert_exporter": "python",
   "pygments_lexer": "ipython3",
   "version": "3.11.4"
  }
 },
 "nbformat": 4,
 "nbformat_minor": 2
}
